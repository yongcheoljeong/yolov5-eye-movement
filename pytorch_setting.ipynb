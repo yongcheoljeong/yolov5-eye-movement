{
 "cells": [
  {
   "cell_type": "markdown",
   "source": [
    "# YOLO V5 환경 셋팅 및 모델 아키텍쳐 분석하기\r\n",
    "https://ropiens.tistory.com/44"
   ],
   "metadata": {}
  },
  {
   "cell_type": "code",
   "execution_count": 1,
   "source": [
    "import torch\r\n",
    "\r\n",
    "torch.cuda.device_count()\r\n",
    "# 1"
   ],
   "outputs": [
    {
     "output_type": "execute_result",
     "data": {
      "text/plain": [
       "1"
      ]
     },
     "metadata": {},
     "execution_count": 1
    }
   ],
   "metadata": {}
  },
  {
   "cell_type": "code",
   "execution_count": 2,
   "source": [
    "torch.cuda.get_device_name(0)\r\n",
    "# GeForce RTX 2080"
   ],
   "outputs": [
    {
     "output_type": "execute_result",
     "data": {
      "text/plain": [
       "'NVIDIA GeForce RTX 2080'"
      ]
     },
     "metadata": {},
     "execution_count": 2
    }
   ],
   "metadata": {}
  },
  {
   "cell_type": "code",
   "execution_count": 3,
   "source": [
    "torch.cuda.is_available()\r\n",
    "# True"
   ],
   "outputs": [
    {
     "output_type": "execute_result",
     "data": {
      "text/plain": [
       "True"
      ]
     },
     "metadata": {},
     "execution_count": 3
    }
   ],
   "metadata": {}
  },
  {
   "cell_type": "markdown",
   "source": [
    "# YOLO v5 Training"
   ],
   "metadata": {}
  },
  {
   "cell_type": "code",
   "execution_count": null,
   "source": [
    "!python train.py --img 640 --batch 1000 --epochs 1000 --data mouse-eye.yaml --weights yolov5s.pt --nosave --cache"
   ],
   "outputs": [],
   "metadata": {}
  },
  {
   "cell_type": "code",
   "execution_count": 5,
   "source": [
    "!cd yolov5\r\n",
    "!python detect.py --weights runs/train/exp18/weights/last.pt --conf 0.5 --max-det=2 --save-txt --line-thickness=1 --source ../videos/\"60 L 20hz 5ms 5s.mp4\""
   ],
   "outputs": [
    {
     "output_type": "stream",
     "name": "stderr",
     "text": [
      "python: can't open file 'detect.py': [Errno 2] No such file or directory\n"
     ]
    }
   ],
   "metadata": {}
  },
  {
   "cell_type": "code",
   "execution_count": null,
   "source": [
    "!pip install -r requirements.txt"
   ],
   "outputs": [],
   "metadata": {}
  }
 ],
 "metadata": {
  "orig_nbformat": 4,
  "language_info": {
   "name": "python",
   "version": "3.8.11",
   "mimetype": "text/x-python",
   "codemirror_mode": {
    "name": "ipython",
    "version": 3
   },
   "pygments_lexer": "ipython3",
   "nbconvert_exporter": "python",
   "file_extension": ".py"
  },
  "kernelspec": {
   "name": "python3",
   "display_name": "Python 3.8.11 64-bit ('yolov5': conda)"
  },
  "interpreter": {
   "hash": "6a11c723d54c80a8a9d2f13ff64177312ac1b722a72bf7b9611b927c5b0e3e29"
  }
 },
 "nbformat": 4,
 "nbformat_minor": 2
}