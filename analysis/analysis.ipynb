{
 "cells": [
  {
   "cell_type": "code",
   "execution_count": null,
   "source": [
    "import yaml \r\n",
    "import glob \r\n",
    "import pandas as pd\r\n",
    "from matplotlib import pyplot as plt\r\n",
    "import seaborn as sns\r\n",
    "\r\n",
    "# path \r\n",
    "path = r'C:\\Users\\jyc13\\Documents\\Python Scripts\\openCV_eyemovement\\yolov5\\runs\\detect\\exp5\\labels'\r\n",
    "\r\n",
    "# object classes\r\n",
    "object_classes = yaml.safe_load(open('object_classes.yaml', 'r'))\r\n",
    "\r\n",
    "# YOLO style: (num_class center_x center_y w, h \\n) 모든 값은 resoluion 기준으로 비율\r\n",
    "\r\n",
    "# read all txt files in the path\r\n",
    "files = glob.glob(f'{path}/*.txt')\r\n",
    "data = []\r\n",
    "for file in files:\r\n",
    "    n_frame = int(file.split('_')[-1].replace('.txt', ''))\r\n",
    "    with open(file, 'rt') as f:\r\n",
    "        lines = f.readlines()\r\n",
    "        for line in lines:\r\n",
    "            splited = line.split(' ')\r\n",
    "            num_class = int(splited[0])\r\n",
    "            class_name = str(object_classes[num_class])\r\n",
    "            center_x = float(splited[1])\r\n",
    "            center_y = float(splited[2])\r\n",
    "            w = float(splited[3])\r\n",
    "            h = float(splited[4])\r\n",
    "\r\n",
    "            frame_data = [n_frame, num_class, class_name, center_x, center_y, w, h]\r\n",
    "            data.append(frame_data)\r\n",
    "\r\n",
    "# format Dataframe\r\n",
    "df = pd.DataFrame(data)\r\n",
    "df.rename(columns = {0:'n_frame'}, inplace = True)\r\n",
    "df.rename(columns = {1:'num_class'}, inplace = True)\r\n",
    "df.rename(columns = {2:'class_name'}, inplace = True)\r\n",
    "df.rename(columns = {3:'center_x'}, inplace = True)\r\n",
    "df.rename(columns = {4:'center_y'}, inplace = True)\r\n",
    "df.rename(columns = {5:'width'}, inplace = True)\r\n",
    "df.rename(columns = {6:'height'}, inplace = True)\r\n",
    "\r\n",
    "df.sort_values(by=['n_frame', 'num_class'], inplace=True, ignore_index=True)\r\n",
    "\r\n",
    "# diff\r\n",
    "df['diff_x'] = df.groupby(by=['n_frame'])['center_x'].diff()\r\n",
    "df['diff_y'] = df.groupby(by=['n_frame'])['center_y'].diff()\r\n",
    "display(df)"
   ],
   "outputs": [],
   "metadata": {}
  },
  {
   "cell_type": "code",
   "execution_count": null,
   "source": [
    "# x-axis\r\n",
    "sns.lineplot(x='n_frame', y='center_x', hue='class_name', data=df)\r\n",
    "plt.show()"
   ],
   "outputs": [],
   "metadata": {}
  },
  {
   "cell_type": "code",
   "execution_count": null,
   "source": [
    "# y-axis\r\n",
    "sns.lineplot(x='n_frame', y='center_y', hue='class_name', data=df)\r\n",
    "plt.show()"
   ],
   "outputs": [],
   "metadata": {}
  },
  {
   "cell_type": "code",
   "execution_count": null,
   "source": [
    "# diff_x\r\n",
    "sns.lineplot(x='n_frame', y='diff_x', hue='class_name', data=df)\r\n",
    "plt.show()"
   ],
   "outputs": [],
   "metadata": {}
  },
  {
   "cell_type": "code",
   "execution_count": null,
   "source": [
    "# diff_y\r\n",
    "sns.lineplot(x='n_frame', y='diff_y', hue='class_name', data=df)\r\n",
    "plt.show()"
   ],
   "outputs": [],
   "metadata": {}
  },
  {
   "cell_type": "code",
   "execution_count": null,
   "source": [
    "from burst import * \r\n",
    "\r\n",
    "mouse = Burst(video_name=\"60 L 20hz 5ms 5s.mp4\")\r\n",
    "df_onoff = mouse.get_stim_on_frames()\r\n",
    "display(df_onoff)"
   ],
   "outputs": [],
   "metadata": {}
  },
  {
   "cell_type": "markdown",
   "source": [
    "### Run YOLO for all videos"
   ],
   "metadata": {}
  },
  {
   "cell_type": "code",
   "execution_count": 1,
   "source": [
    "import os \r\n",
    "\r\n",
    "video_repo = r'D:\\Research\\SC\\DATA\\Eye_Movement'\r\n",
    "file_list = os.listdir(video_repo)\r\n",
    "video_list = [x for x in file_list if x.endswith('.MP4')]\r\n",
    "\r\n",
    "print(f'current video files: {video_list}')\r\n",
    "\r\n",
    "def get_filelist_updated(): # 이미 YOLO 분석 된 비디오 파일 리스트 출력\r\n",
    "    filepath = r'C:\\Users\\jyc13\\Documents\\Python Scripts\\openCV_eyemovement\\analysis'\r\n",
    "    yoloed_videos = 'yoloed_videos.txt'\r\n",
    "    f = open(os.path.join(filepath, yoloed_videos), 'r+')\r\n",
    "    lines = f.readlines()\r\n",
    "    yoloed_video_list = []\r\n",
    "\r\n",
    "    for line in lines:\r\n",
    "        yoloed_video_list.append(line.replace('\\n', ''))\r\n",
    "    \r\n",
    "    f.close()\r\n",
    "    \r\n",
    "    return yoloed_video_list\r\n",
    "\r\n",
    "yoloed_video_list = get_filelist_updated()\r\n",
    "\r\n",
    "s = set(yoloed_video_list)\r\n",
    "videos_to_update = [x for x in video_list if x not in s] # YOLO 분석 안 된 비디오만 리스트로 받기\r\n",
    "\r\n",
    "print(f'videos to be updated: {videos_to_update}')\r\n"
   ],
   "outputs": [
    {
     "output_type": "stream",
     "name": "stdout",
     "text": [
      "current video files: ['60 L 20hz 5ms 5s.MP4', '60 L base.MP4', '60 R 20hz 5ms 5s.MP4']\n",
      "videos to be updated: []\n"
     ]
    }
   ],
   "metadata": {}
  },
  {
   "cell_type": "code",
   "execution_count": 2,
   "source": [
    "from runyolo import runyolo \r\n",
    "\r\n",
    "for video in videos_to_update: \r\n",
    "    video_name = video\r\n",
    "    exp_train = 'exp20'\r\n",
    "    save_name = video_name\r\n",
    "\r\n",
    "    runyolo(video_name=video_name, exp_train=exp_train, save_name=video_name)\r\n",
    "\r\n",
    "    f = open('yoloed_videos.txt', 'a')\r\n",
    "    f.write(video_name+'\\n')\r\n",
    "    f.close()\r\n"
   ],
   "outputs": [],
   "metadata": {}
  }
 ],
 "metadata": {
  "orig_nbformat": 4,
  "language_info": {
   "name": "python",
   "version": "3.8.11",
   "mimetype": "text/x-python",
   "codemirror_mode": {
    "name": "ipython",
    "version": 3
   },
   "pygments_lexer": "ipython3",
   "nbconvert_exporter": "python",
   "file_extension": ".py"
  },
  "kernelspec": {
   "name": "python3",
   "display_name": "Python 3.8.11 64-bit ('yolov5': conda)"
  },
  "interpreter": {
   "hash": "6a11c723d54c80a8a9d2f13ff64177312ac1b722a72bf7b9611b927c5b0e3e29"
  }
 },
 "nbformat": 4,
 "nbformat_minor": 2
}