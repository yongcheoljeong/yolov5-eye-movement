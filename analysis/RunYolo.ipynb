{
 "cells": [
  {
   "cell_type": "markdown",
   "source": [
    "### Run YOLO for all videos"
   ],
   "metadata": {}
  },
  {
   "cell_type": "code",
   "execution_count": 1,
   "source": [
    "import os \r\n",
    "\r\n",
    "video_repo = r'F:\\2021_SC-PAG_ChR2_eye\\data' # video 저장 path\r\n",
    "file_list = os.listdir(video_repo)\r\n",
    "video_list = [x for x in file_list if x.lower().endswith('.mp4')] # .mp4 파일 리스트\r\n",
    "\r\n",
    "print(f'num video files: {len(video_list)}')\r\n",
    "\r\n",
    "def get_yoloed_video_list(): # 이미 YOLO 분석 된 비디오 파일 리스트 출력\r\n",
    "    filepath = r'C:\\Users\\jyc13\\Documents\\Python Scripts\\openCV_eyemovement\\analysis'\r\n",
    "    yoloed_videos = 'yoloed_videos.txt'\r\n",
    "    f = open(os.path.join(filepath, yoloed_videos), 'r+')\r\n",
    "    lines = f.readlines()\r\n",
    "    yoloed_video_list = []\r\n",
    "\r\n",
    "    for line in lines:\r\n",
    "        yoloed_video_list.append(line.replace('\\n', ''))\r\n",
    "    \r\n",
    "    f.close()\r\n",
    "    \r\n",
    "    return yoloed_video_list\r\n",
    "\r\n",
    "yoloed_video_list = get_yoloed_video_list()\r\n",
    "\r\n",
    "s = set(yoloed_video_list)\r\n",
    "videos_to_update = [x for x in video_list if x not in s] # YOLO 분석 안 된 비디오만 리스트로 받기\r\n",
    "\r\n",
    "print(f'num videos to be updated: {len(videos_to_update)}')\r\n"
   ],
   "outputs": [
    {
     "output_type": "stream",
     "name": "stdout",
     "text": [
      "num video files: 72\n",
      "num videos to be updated: 45\n"
     ]
    }
   ],
   "metadata": {}
  },
  {
   "cell_type": "code",
   "execution_count": 2,
   "source": [
    "# 우선 20Hz 파일만 먼저 분석\r\n",
    "\r\n",
    "videos_to_update = [x for x in videos_to_update if '20hz' in x]\r\n",
    "print(f'num videos to be updated: {len(videos_to_update)}')"
   ],
   "outputs": [
    {
     "output_type": "stream",
     "name": "stdout",
     "text": [
      "num videos to be updated: 2\n"
     ]
    }
   ],
   "metadata": {}
  },
  {
   "cell_type": "code",
   "execution_count": 3,
   "source": [
    "from runyolo import runyolo \r\n",
    "\r\n",
    "for video in videos_to_update: \r\n",
    "    video_name = video\r\n",
    "    exp_train = 'exp21' # detect에 쓸 training weight 폴더 name (기본 경로 C:\\Users\\jyc13\\Documents\\Python Scripts\\openCV_eyemovement\\yolov5\\runs\\train)\r\n",
    "    save_name = video_name\r\n",
    "\r\n",
    "    run_cmd = runyolo(video_repo_path=video_repo, video_name=video_name, exp_train=exp_train, save_name=video_name, nosave=True)\r\n",
    "\r\n",
    "    f = open('yoloed_videos.txt', 'a')\r\n",
    "    f.write(video_name+'\\n')\r\n",
    "    f.close()\r\n",
    "\r\n",
    "    del run_cmd\r\n"
   ],
   "outputs": [
    {
     "output_type": "stream",
     "name": "stdout",
     "text": [
      "cd ../yolov5 & python detect.py --weights runs/train/exp21/weights/last.pt --conf 0.5 --max-det=2 --save-txt --nosave --name \"63 R 20hz 5ms 5s.MP4\" --line-thickness=1 --source F:\\2021_SC-PAG_ChR2_eye\\data/\"63 R 20hz 5ms 5s.MP4\"\n",
      "cd ../yolov5 & python detect.py --weights runs/train/exp21/weights/last.pt --conf 0.5 --max-det=2 --save-txt --nosave --name \"64 R 20hz 5ms 5s.MP4\" --line-thickness=1 --source F:\\2021_SC-PAG_ChR2_eye\\data/\"64 R 20hz 5ms 5s.MP4\"\n"
     ]
    }
   ],
   "metadata": {}
  }
 ],
 "metadata": {
  "orig_nbformat": 4,
  "language_info": {
   "name": "python",
   "version": "3.8.11",
   "mimetype": "text/x-python",
   "codemirror_mode": {
    "name": "ipython",
    "version": 3
   },
   "pygments_lexer": "ipython3",
   "nbconvert_exporter": "python",
   "file_extension": ".py"
  },
  "kernelspec": {
   "name": "python3",
   "display_name": "Python 3.8.11 64-bit ('yolov5': conda)"
  },
  "interpreter": {
   "hash": "6a11c723d54c80a8a9d2f13ff64177312ac1b722a72bf7b9611b927c5b0e3e29"
  }
 },
 "nbformat": 4,
 "nbformat_minor": 2
}