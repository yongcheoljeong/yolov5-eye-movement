{
 "cells": [
  {
   "cell_type": "markdown",
   "source": [
    "### Run YOLO for all videos"
   ],
   "metadata": {}
  },
  {
   "cell_type": "code",
   "execution_count": 1,
   "source": [
    "import os \r\n",
    "\r\n",
    "video_repo = r'D:\\Research\\SC\\DATA\\Eye_Movement' # video 저장 path\r\n",
    "file_list = os.listdir(video_repo)\r\n",
    "video_list = [x for x in file_list if x.endswith('.MP4')] # .mp4 파일 리스트\r\n",
    "\r\n",
    "print(f'video files: {video_list}')\r\n",
    "\r\n",
    "def get_yoloed_video_list(): # 이미 YOLO 분석 된 비디오 파일 리스트 출력\r\n",
    "    filepath = r'C:\\Users\\jyc13\\Documents\\Python Scripts\\openCV_eyemovement\\analysis'\r\n",
    "    yoloed_videos = 'yoloed_videos.txt'\r\n",
    "    f = open(os.path.join(filepath, yoloed_videos), 'r+')\r\n",
    "    lines = f.readlines()\r\n",
    "    yoloed_video_list = []\r\n",
    "\r\n",
    "    for line in lines:\r\n",
    "        yoloed_video_list.append(line.replace('\\n', ''))\r\n",
    "    \r\n",
    "    f.close()\r\n",
    "    \r\n",
    "    return yoloed_video_list\r\n",
    "\r\n",
    "yoloed_video_list = get_yoloed_video_list()\r\n",
    "\r\n",
    "s = set(yoloed_video_list)\r\n",
    "videos_to_update = [x for x in video_list if x not in s] # YOLO 분석 안 된 비디오만 리스트로 받기\r\n",
    "\r\n",
    "print(f'videos to be updated: {videos_to_update}')\r\n"
   ],
   "outputs": [
    {
     "output_type": "stream",
     "name": "stdout",
     "text": [
      "current video files: ['60 L 20hz 5ms 5s.MP4', '60 L base.MP4', '60 R 20hz 5ms 5s.MP4']\n",
      "videos to be updated: []\n"
     ]
    }
   ],
   "metadata": {}
  },
  {
   "cell_type": "code",
   "execution_count": 2,
   "source": [
    "from runyolo import runyolo \r\n",
    "\r\n",
    "for video in videos_to_update: \r\n",
    "    video_name = video\r\n",
    "    exp_train = 'exp20' # detect에 쓸 training weight 폴더 name (기본 경로 C:\\Users\\jyc13\\Documents\\Python Scripts\\openCV_eyemovement\\yolov5\\runs\\train)\r\n",
    "    save_name = video_name\r\n",
    "\r\n",
    "    runyolo(video_name=video_name, exp_train=exp_train, save_name=video_name)\r\n",
    "\r\n",
    "    f = open('yoloed_videos.txt', 'a')\r\n",
    "    f.write(video_name+'\\n')\r\n",
    "    f.close()\r\n"
   ],
   "outputs": [],
   "metadata": {}
  }
 ],
 "metadata": {
  "orig_nbformat": 4,
  "language_info": {
   "name": "python",
   "version": "3.8.11",
   "mimetype": "text/x-python",
   "codemirror_mode": {
    "name": "ipython",
    "version": 3
   },
   "pygments_lexer": "ipython3",
   "nbconvert_exporter": "python",
   "file_extension": ".py"
  },
  "kernelspec": {
   "name": "python3",
   "display_name": "Python 3.8.11 64-bit ('yolov5': conda)"
  },
  "interpreter": {
   "hash": "6a11c723d54c80a8a9d2f13ff64177312ac1b722a72bf7b9611b927c5b0e3e29"
  }
 },
 "nbformat": 4,
 "nbformat_minor": 2
}