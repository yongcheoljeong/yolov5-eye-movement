{
 "cells": [
  {
   "cell_type": "markdown",
   "source": [
    "### Run YOLO for all videos"
   ],
   "metadata": {}
  },
  {
   "cell_type": "code",
   "execution_count": 1,
   "source": [
    "import os \r\n",
    "\r\n",
    "video_repo = r'F:\\2021_SC-PAG_ChR2_eye\\data' # video 저장 path\r\n",
    "file_list = os.listdir(video_repo)\r\n",
    "video_list = [x for x in file_list if x.endswith('.MP4')] # .mp4 파일 리스트\r\n",
    "\r\n",
    "print(f'num video files: {len(video_list)}')\r\n",
    "\r\n",
    "def get_yoloed_video_list(): # 이미 YOLO 분석 된 비디오 파일 리스트 출력\r\n",
    "    filepath = r'C:\\Users\\jyc13\\Documents\\Python Scripts\\openCV_eyemovement\\analysis'\r\n",
    "    yoloed_videos = 'yoloed_videos.txt'\r\n",
    "    f = open(os.path.join(filepath, yoloed_videos), 'r+')\r\n",
    "    lines = f.readlines()\r\n",
    "    yoloed_video_list = []\r\n",
    "\r\n",
    "    for line in lines:\r\n",
    "        yoloed_video_list.append(line.replace('\\n', ''))\r\n",
    "    \r\n",
    "    f.close()\r\n",
    "    \r\n",
    "    return yoloed_video_list\r\n",
    "\r\n",
    "yoloed_video_list = get_yoloed_video_list()\r\n",
    "\r\n",
    "s = set(yoloed_video_list)\r\n",
    "videos_to_update = [x for x in video_list if x not in s] # YOLO 분석 안 된 비디오만 리스트로 받기\r\n",
    "\r\n",
    "print(f'num videos to be updated: {len(videos_to_update)}')\r\n"
   ],
   "outputs": [
    {
     "output_type": "stream",
     "name": "stdout",
     "text": [
      "num video files: 58\n",
      "num videos to be updated: 55\n"
     ]
    }
   ],
   "metadata": {}
  },
  {
   "cell_type": "code",
   "execution_count": 2,
   "source": [
    "from runyolo import runyolo \r\n",
    "\r\n",
    "for video in videos_to_update: \r\n",
    "    video_name = video\r\n",
    "    exp_train = 'exp20' # detect에 쓸 training weight 폴더 name (기본 경로 C:\\Users\\jyc13\\Documents\\Python Scripts\\openCV_eyemovement\\yolov5\\runs\\train)\r\n",
    "    save_name = video_name\r\n",
    "\r\n",
    "    runyolo(video_repo_path=video_repo, video_name=video_name, exp_train=exp_train, save_name=video_name)\r\n",
    "\r\n",
    "    f = open('yoloed_videos.txt', 'a')\r\n",
    "    f.write(video_name+'\\n')\r\n",
    "    f.close()\r\n"
   ],
   "outputs": [
    {
     "output_type": "stream",
     "name": "stdout",
     "text": [
      "cd ../yolov5 & python detect.py --weights runs/train/exp20/weights/last.pt --conf 0.5 --max-det=2 --save-txt --name \"32 L 0.2hz 50ms.MP4\" --line-thickness=1 --source F:/2021 SC-PAG ChR2 eye/data/32 L 0.2hz 50ms.MP4\n",
      "cd ../yolov5 & python detect.py --weights runs/train/exp20/weights/last.pt --conf 0.5 --max-det=2 --save-txt --name \"32 R 0.2hz 50ms.MP4\" --line-thickness=1 --source F:/2021 SC-PAG ChR2 eye/data/32 R 0.2hz 50ms.MP4\n",
      "cd ../yolov5 & python detect.py --weights runs/train/exp20/weights/last.pt --conf 0.5 --max-det=2 --save-txt --name \"34 L 0.2hz 50ms.MP4\" --line-thickness=1 --source F:/2021 SC-PAG ChR2 eye/data/34 L 0.2hz 50ms.MP4\n"
     ]
    },
    {
     "output_type": "error",
     "ename": "KeyboardInterrupt",
     "evalue": "",
     "traceback": [
      "\u001b[1;31m---------------------------------------------------------------------------\u001b[0m",
      "\u001b[1;31mKeyboardInterrupt\u001b[0m                         Traceback (most recent call last)",
      "\u001b[1;32m<ipython-input-2-4608f411728c>\u001b[0m in \u001b[0;36m<module>\u001b[1;34m\u001b[0m\n\u001b[0;32m      6\u001b[0m     \u001b[0msave_name\u001b[0m \u001b[1;33m=\u001b[0m \u001b[0mvideo_name\u001b[0m\u001b[1;33m\u001b[0m\u001b[1;33m\u001b[0m\u001b[0m\n\u001b[0;32m      7\u001b[0m \u001b[1;33m\u001b[0m\u001b[0m\n\u001b[1;32m----> 8\u001b[1;33m     \u001b[0mrunyolo\u001b[0m\u001b[1;33m(\u001b[0m\u001b[0mvideo_repo_path\u001b[0m\u001b[1;33m=\u001b[0m\u001b[0mvideo_repo\u001b[0m\u001b[1;33m,\u001b[0m \u001b[0mvideo_name\u001b[0m\u001b[1;33m=\u001b[0m\u001b[0mvideo_name\u001b[0m\u001b[1;33m,\u001b[0m \u001b[0mexp_train\u001b[0m\u001b[1;33m=\u001b[0m\u001b[0mexp_train\u001b[0m\u001b[1;33m,\u001b[0m \u001b[0msave_name\u001b[0m\u001b[1;33m=\u001b[0m\u001b[0mvideo_name\u001b[0m\u001b[1;33m)\u001b[0m\u001b[1;33m\u001b[0m\u001b[1;33m\u001b[0m\u001b[0m\n\u001b[0m\u001b[0;32m      9\u001b[0m \u001b[1;33m\u001b[0m\u001b[0m\n\u001b[0;32m     10\u001b[0m     \u001b[0mf\u001b[0m \u001b[1;33m=\u001b[0m \u001b[0mopen\u001b[0m\u001b[1;33m(\u001b[0m\u001b[1;34m'yoloed_videos.txt'\u001b[0m\u001b[1;33m,\u001b[0m \u001b[1;34m'a'\u001b[0m\u001b[1;33m)\u001b[0m\u001b[1;33m\u001b[0m\u001b[1;33m\u001b[0m\u001b[0m\n",
      "\u001b[1;32mc:\\Users\\jyc13\\Documents\\Python Scripts\\openCV_eyemovement\\analysis\\runyolo.py\u001b[0m in \u001b[0;36mrunyolo\u001b[1;34m(video_repo_path, video_name, exp_train, save_name)\u001b[0m\n\u001b[0;32m      7\u001b[0m     \u001b[0mprint\u001b[0m\u001b[1;33m(\u001b[0m\u001b[0mcommand\u001b[0m\u001b[1;33m)\u001b[0m\u001b[1;33m\u001b[0m\u001b[1;33m\u001b[0m\u001b[0m\n\u001b[0;32m      8\u001b[0m \u001b[1;33m\u001b[0m\u001b[0m\n\u001b[1;32m----> 9\u001b[1;33m     \u001b[0mos\u001b[0m\u001b[1;33m.\u001b[0m\u001b[0msystem\u001b[0m\u001b[1;33m(\u001b[0m\u001b[0mcommand\u001b[0m\u001b[1;33m)\u001b[0m\u001b[1;33m\u001b[0m\u001b[1;33m\u001b[0m\u001b[0m\n\u001b[0m\u001b[0;32m     10\u001b[0m     \u001b[0mos\u001b[0m\u001b[1;33m.\u001b[0m\u001b[0msystem\u001b[0m\u001b[1;33m(\u001b[0m\u001b[1;34m'cls'\u001b[0m\u001b[1;33m)\u001b[0m\u001b[1;33m\u001b[0m\u001b[1;33m\u001b[0m\u001b[0m\n",
      "\u001b[1;31mKeyboardInterrupt\u001b[0m: "
     ]
    }
   ],
   "metadata": {}
  }
 ],
 "metadata": {
  "orig_nbformat": 4,
  "language_info": {
   "name": "python",
   "version": "3.8.11",
   "mimetype": "text/x-python",
   "codemirror_mode": {
    "name": "ipython",
    "version": 3
   },
   "pygments_lexer": "ipython3",
   "nbconvert_exporter": "python",
   "file_extension": ".py"
  },
  "kernelspec": {
   "name": "python3",
   "display_name": "Python 3.8.11 64-bit ('yolov5': conda)"
  },
  "interpreter": {
   "hash": "6a11c723d54c80a8a9d2f13ff64177312ac1b722a72bf7b9611b927c5b0e3e29"
  }
 },
 "nbformat": 4,
 "nbformat_minor": 2
}