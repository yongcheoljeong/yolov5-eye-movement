{
 "cells": [
  {
   "cell_type": "code",
   "execution_count": null,
   "source": [
    "import cv2\r\n",
    "import numpy as np"
   ],
   "outputs": [],
   "metadata": {}
  },
  {
   "cell_type": "code",
   "execution_count": null,
   "source": [
    "col, width, row, height = -1,-1,-1,-1 \r\n",
    "frame = None \r\n",
    "frame2 = None \r\n",
    "inputmode = False \r\n",
    "rectangle = False \r\n",
    "trackWindow = None \r\n",
    "roi_hist = None \r\n",
    "\r\n",
    "def onMouse(event,x,y,flags,param): \r\n",
    "    global col,width,row,height, frame,frame2 \r\n",
    "    global inputmode, rectangle, roi_hist, trackWindow \r\n",
    "    if inputmode: # 좌 클릭시 \r\n",
    "        if event == cv2.EVENT_LBUTTONDOWN: \r\n",
    "            rectangle = True \r\n",
    "            col, row = x,y \r\n",
    "        # 좌 클릭하는 도중 움직일 때 \r\n",
    "        elif event == cv2.EVENT_MOUSEMOVE: \r\n",
    "            if rectangle: \r\n",
    "                frame = frame2.copy() \r\n",
    "                cv2.rectangle(frame,(col,row),(x,y),(0,255,0),2) \r\n",
    "                cv2.imshow('frame',frame) \r\n",
    "        # 좌 클릭 뗐을때 \r\n",
    "        elif event == cv2.EVENT_LBUTTONUP: \r\n",
    "            inputmode = False \r\n",
    "            rectangle = False \r\n",
    "            cv2.rectangle(frame,(col,row),(x,y),(0,255,0),2) \r\n",
    "            height, width = abs(row-y), abs(col-x) \r\n",
    "            trackWindow = (col,row,width,height) \r\n",
    "            roi = frame[row:row+height,col:col+width] \r\n",
    "            # HSV 색공간으로 변환 \r\n",
    "            roi = cv2.cvtColor(roi,cv2.COLOR_BGR2HSV) \r\n",
    "            # HSV 색공간으로 변경한 히스토그램 계산 \r\n",
    "            roi_hist = cv2.calcHist([roi],[0],None,[180],[0,180]) \r\n",
    "            # 계산된 히스토그램 노말라이즈 \r\n",
    "            cv2.normalize(roi_hist,roi_hist,0,255,cv2.NORM_MINMAX) \r\n",
    "    return"
   ],
   "outputs": [],
   "metadata": {}
  },
  {
   "cell_type": "code",
   "execution_count": null,
   "source": [
    "def camShift(): \r\n",
    "    global frame,frame2,inputmode,trackWindow,roi_hist \r\n",
    "    \r\n",
    "    try: \r\n",
    "        # 저장된 영상 불러옴 \r\n",
    "        cap = cv2.VideoCapture('KakaoTalk_20210625_223105785.mp4') \r\n",
    "        cap.set(3,480) # set 가로\r\n",
    "        cap.set(4,320) # set 세로\r\n",
    "    except Exception as e: \r\n",
    "        print(e) \r\n",
    "        return \r\n",
    "    \r\n",
    "    ret, frame = cap.read() \r\n",
    "    cv2.namedWindow('frame') \r\n",
    "    cv2.setMouseCallback('frame',onMouse,param=(frame,frame2)) \r\n",
    "    \r\n",
    "    # meanShift 함수의 3번째 인자. 10회 반복 혹은 C1_o ~ C1_r의 차이가 1pt 날 때까지 작동 \r\n",
    "    termination = (cv2.TERM_CRITERIA_EPS | cv2.TERM_CRITERIA_COUNT, 10,1) \r\n",
    "    while True: \r\n",
    "        ret, frame = cap.read() \r\n",
    "        if not ret: \r\n",
    "            break \r\n",
    "        if trackWindow is not None: \r\n",
    "            hsv = cv2.cvtColor(frame,cv2.COLOR_BGR2HSV) \r\n",
    "            dst = cv2.calcBackProject([hsv],[0],roi_hist,[0,180],1) \r\n",
    "            ret, trackWindow = cv2.CamShift(dst,trackWindow,termination) \r\n",
    "            \r\n",
    "            ### 이 부분 수정 \r\n",
    "            pts = cv2.boxPoints(ret) \r\n",
    "            pts = np.int0(pts) \r\n",
    "            cv2.polylines(frame,[pts],True,(0,255,0),2) \r\n",
    "        cv2.imshow('frame',frame) \r\n",
    "        k = cv2.waitKey(60) & 0xFF \r\n",
    "        if k == 27: # ESC\r\n",
    "            break \r\n",
    "        # i를 눌러서 영상을 멈춰서 roi 설정 \r\n",
    "        if k == ord('i'): \r\n",
    "            print(\"Meanshift를 위한 지역을 선택하고 키를 입력해라\") \r\n",
    "            inputmode = True \r\n",
    "            frame2 = frame.copy() \r\n",
    "            while inputmode: \r\n",
    "                cv2.imshow('frame',frame) \r\n",
    "                cv2.waitKey(0) \r\n",
    "    cap.release() \r\n",
    "    cv2.destroyAllWindows() \r\n",
    "camShift()"
   ],
   "outputs": [],
   "metadata": {}
  }
 ],
 "metadata": {
  "orig_nbformat": 4,
  "language_info": {
   "name": "python",
   "version": "3.8.11",
   "mimetype": "text/x-python",
   "codemirror_mode": {
    "name": "ipython",
    "version": 3
   },
   "pygments_lexer": "ipython3",
   "nbconvert_exporter": "python",
   "file_extension": ".py"
  },
  "kernelspec": {
   "name": "python3",
   "display_name": "Python 3.8.11 64-bit ('yolov5': conda)"
  },
  "interpreter": {
   "hash": "6a11c723d54c80a8a9d2f13ff64177312ac1b722a72bf7b9611b927c5b0e3e29"
  }
 },
 "nbformat": 4,
 "nbformat_minor": 2
}